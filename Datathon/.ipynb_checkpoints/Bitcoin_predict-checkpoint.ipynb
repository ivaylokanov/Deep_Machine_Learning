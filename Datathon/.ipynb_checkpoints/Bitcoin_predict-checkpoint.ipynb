{
 "cells": [
  {
   "cell_type": "code",
   "execution_count": 1,
   "metadata": {},
   "outputs": [],
   "source": [
    "%matplotlib inline"
   ]
  },
  {
   "cell_type": "code",
   "execution_count": 21,
   "metadata": {},
   "outputs": [],
   "source": [
    "import pandas as pd\n",
    "import pandas_datareader.data as web\n",
    "import numpy as np\n",
    "import matplotlib.pyplot as plt\n",
    "import seaborn as sns\n",
    "import datetime\n",
    "import time"
   ]
  },
  {
   "cell_type": "code",
   "execution_count": 6,
   "metadata": {},
   "outputs": [
    {
     "data": {
      "text/html": [
       "<div>\n",
       "<style scoped>\n",
       "    .dataframe tbody tr th:only-of-type {\n",
       "        vertical-align: middle;\n",
       "    }\n",
       "\n",
       "    .dataframe tbody tr th {\n",
       "        vertical-align: top;\n",
       "    }\n",
       "\n",
       "    .dataframe thead th {\n",
       "        text-align: right;\n",
       "    }\n",
       "</style>\n",
       "<table border=\"1\" class=\"dataframe\">\n",
       "  <thead>\n",
       "    <tr style=\"text-align: right;\">\n",
       "      <th></th>\n",
       "      <th>Unnamed: 0</th>\n",
       "      <th>refID_coin</th>\n",
       "      <th>price</th>\n",
       "      <th>marketCap</th>\n",
       "      <th>CirculatingSupply</th>\n",
       "      <th>Volume24h</th>\n",
       "      <th>Movement1h</th>\n",
       "      <th>Movement24h</th>\n",
       "    </tr>\n",
       "    <tr>\n",
       "      <th>time</th>\n",
       "      <th></th>\n",
       "      <th></th>\n",
       "      <th></th>\n",
       "      <th></th>\n",
       "      <th></th>\n",
       "      <th></th>\n",
       "      <th></th>\n",
       "      <th></th>\n",
       "    </tr>\n",
       "  </thead>\n",
       "  <tbody>\n",
       "    <tr>\n",
       "      <th>2018-01-17 11:25:00</th>\n",
       "      <td>0</td>\n",
       "      <td>1442</td>\n",
       "      <td>10756.0</td>\n",
       "      <td>180786170372</td>\n",
       "      <td>16807937</td>\n",
       "      <td>17884600000</td>\n",
       "      <td>-1.42</td>\n",
       "      <td>-11.40</td>\n",
       "    </tr>\n",
       "    <tr>\n",
       "      <th>2018-01-17 11:30:00</th>\n",
       "      <td>1442</td>\n",
       "      <td>1442</td>\n",
       "      <td>10788.1</td>\n",
       "      <td>181325705150</td>\n",
       "      <td>16807937</td>\n",
       "      <td>17865300000</td>\n",
       "      <td>-1.08</td>\n",
       "      <td>-10.91</td>\n",
       "    </tr>\n",
       "    <tr>\n",
       "      <th>2018-01-17 11:35:00</th>\n",
       "      <td>2884</td>\n",
       "      <td>1442</td>\n",
       "      <td>10807.5</td>\n",
       "      <td>181651779128</td>\n",
       "      <td>16807937</td>\n",
       "      <td>17891800000</td>\n",
       "      <td>-0.65</td>\n",
       "      <td>-10.75</td>\n",
       "    </tr>\n",
       "    <tr>\n",
       "      <th>2018-01-17 11:45:00</th>\n",
       "      <td>4326</td>\n",
       "      <td>1442</td>\n",
       "      <td>10776.1</td>\n",
       "      <td>181124548711</td>\n",
       "      <td>16807987</td>\n",
       "      <td>17712000000</td>\n",
       "      <td>-1.13</td>\n",
       "      <td>-10.58</td>\n",
       "    </tr>\n",
       "    <tr>\n",
       "      <th>2018-01-17 11:50:00</th>\n",
       "      <td>5768</td>\n",
       "      <td>1442</td>\n",
       "      <td>10729.7</td>\n",
       "      <td>180344658114</td>\n",
       "      <td>16807987</td>\n",
       "      <td>17645700000</td>\n",
       "      <td>-1.52</td>\n",
       "      <td>-10.74</td>\n",
       "    </tr>\n",
       "  </tbody>\n",
       "</table>\n",
       "</div>"
      ],
      "text/plain": [
       "                     Unnamed: 0  refID_coin    price     marketCap  \\\n",
       "time                                                                 \n",
       "2018-01-17 11:25:00           0        1442  10756.0  180786170372   \n",
       "2018-01-17 11:30:00        1442        1442  10788.1  181325705150   \n",
       "2018-01-17 11:35:00        2884        1442  10807.5  181651779128   \n",
       "2018-01-17 11:45:00        4326        1442  10776.1  181124548711   \n",
       "2018-01-17 11:50:00        5768        1442  10729.7  180344658114   \n",
       "\n",
       "                     CirculatingSupply    Volume24h  Movement1h  Movement24h  \n",
       "time                                                                          \n",
       "2018-01-17 11:25:00           16807937  17884600000       -1.42       -11.40  \n",
       "2018-01-17 11:30:00           16807937  17865300000       -1.08       -10.91  \n",
       "2018-01-17 11:35:00           16807937  17891800000       -0.65       -10.75  \n",
       "2018-01-17 11:45:00           16807987  17712000000       -1.13       -10.58  \n",
       "2018-01-17 11:50:00           16807987  17645700000       -1.52       -10.74  "
      ]
     },
     "execution_count": 6,
     "metadata": {},
     "output_type": "execute_result"
    }
   ],
   "source": [
    "data = pd.read_csv(\"datathon_csv\\price_data1442.csv\", index_col=\"time\")\n",
    "\n",
    "data.head()\n"
   ]
  },
  {
   "cell_type": "code",
   "execution_count": 67,
   "metadata": {},
   "outputs": [
    {
     "name": "stdout",
     "output_type": "stream",
     "text": [
      "2018-01-17 11:40:00\n"
     ]
    }
   ],
   "source": [
    "\n",
    "data.index  = pd.to_datetime(data.index)\n",
    "\n",
    "difference = (data.index[1] - data.index[0]).total_seconds()\n",
    "print(data.index[2] + pd.Timedelta(minutes=5))\n"
   ]
  },
  {
   "cell_type": "code",
   "execution_count": 64,
   "metadata": {},
   "outputs": [],
   "source": [
    "# fill the empty data\n",
    "def filldata(data):\n",
    "    for i in range(1,len(data)):\n",
    "        difference = (data.index[i] - data.index[i-1]).total_seconds()\n",
    "        if difference > 300:\n",
    "            break\n",
    "    return data.index[i-1]"
   ]
  },
  {
   "cell_type": "code",
   "execution_count": 65,
   "metadata": {},
   "outputs": [
    {
     "name": "stdout",
     "output_type": "stream",
     "text": [
      "2018-01-17 11:35:00\n"
     ]
    }
   ],
   "source": [
    "print(filldata(data))"
   ]
  }
 ],
 "metadata": {
  "kernelspec": {
   "display_name": "Python 3",
   "language": "python",
   "name": "python3"
  },
  "language_info": {
   "codemirror_mode": {
    "name": "ipython",
    "version": 3
   },
   "file_extension": ".py",
   "mimetype": "text/x-python",
   "name": "python",
   "nbconvert_exporter": "python",
   "pygments_lexer": "ipython3",
   "version": "3.6.3"
  }
 },
 "nbformat": 4,
 "nbformat_minor": 2
}
