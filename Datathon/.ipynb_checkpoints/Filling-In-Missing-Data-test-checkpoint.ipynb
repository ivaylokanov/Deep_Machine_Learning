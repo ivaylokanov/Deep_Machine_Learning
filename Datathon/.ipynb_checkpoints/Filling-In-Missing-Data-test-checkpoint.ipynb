{
 "cells": [
  {
   "cell_type": "code",
   "execution_count": 1,
   "metadata": {},
   "outputs": [],
   "source": [
    "import pandas as pd\n",
    "import numpy as np"
   ]
  },
  {
   "cell_type": "code",
   "execution_count": 2,
   "metadata": {},
   "outputs": [],
   "source": [
    "# Read the files\n",
    "currency_info = pd.read_csv(\"currencies.txt\", sep = \"\\t\")\n",
    "coin_infos = {}\n",
    "for coin_id in currency_info.CoinID:\n",
    "    coin_file = \"datathon_csv/price_data{0}.csv\".format(coin_id)\n",
    "    coin_infos[coin_id] = pd.read_csv(coin_file)"
   ]
  },
  {
   "cell_type": "code",
   "execution_count": 3,
   "metadata": {},
   "outputs": [
    {
     "data": {
      "text/plain": [
       "dict_keys([1442, 1445, 1456, 1446, 1453, 1477, 1452, 1443, 1457, 1451, 1460, 1448, 1454, 1447, 1449, 1444, 1450, 1474, 1455, 1465])"
      ]
     },
     "execution_count": 3,
     "metadata": {},
     "output_type": "execute_result"
    }
   ],
   "source": [
    "coin_infos.keys()"
   ]
  },
  {
   "cell_type": "code",
   "execution_count": 4,
   "metadata": {},
   "outputs": [
    {
     "data": {
      "text/html": [
       "<div>\n",
       "<style scoped>\n",
       "    .dataframe tbody tr th:only-of-type {\n",
       "        vertical-align: middle;\n",
       "    }\n",
       "\n",
       "    .dataframe tbody tr th {\n",
       "        vertical-align: top;\n",
       "    }\n",
       "\n",
       "    .dataframe thead th {\n",
       "        text-align: right;\n",
       "    }\n",
       "</style>\n",
       "<table border=\"1\" class=\"dataframe\">\n",
       "  <thead>\n",
       "    <tr style=\"text-align: right;\">\n",
       "      <th></th>\n",
       "      <th>Unnamed: 0</th>\n",
       "      <th>time</th>\n",
       "      <th>refID_coin</th>\n",
       "      <th>price</th>\n",
       "      <th>marketCap</th>\n",
       "      <th>CirculatingSupply</th>\n",
       "      <th>Volume24h</th>\n",
       "      <th>Movement1h</th>\n",
       "      <th>Movement24h</th>\n",
       "    </tr>\n",
       "  </thead>\n",
       "  <tbody>\n",
       "    <tr>\n",
       "      <th>15186</th>\n",
       "      <td>23067483</td>\n",
       "      <td>3/23/2018 12:50</td>\n",
       "      <td>1442</td>\n",
       "      <td>8503.81</td>\n",
       "      <td>1.440000e+11</td>\n",
       "      <td>16934725</td>\n",
       "      <td>5312570000</td>\n",
       "      <td>0.0</td>\n",
       "      <td>0.0</td>\n",
       "    </tr>\n",
       "    <tr>\n",
       "      <th>15187</th>\n",
       "      <td>23069061</td>\n",
       "      <td>3/23/2018 12:55</td>\n",
       "      <td>1442</td>\n",
       "      <td>8512.09</td>\n",
       "      <td>1.440000e+11</td>\n",
       "      <td>16934725</td>\n",
       "      <td>5304280000</td>\n",
       "      <td>0.0</td>\n",
       "      <td>0.0</td>\n",
       "    </tr>\n",
       "    <tr>\n",
       "      <th>15188</th>\n",
       "      <td>23070639</td>\n",
       "      <td>3/23/2018 13:05</td>\n",
       "      <td>1442</td>\n",
       "      <td>8516.86</td>\n",
       "      <td>1.440000e+11</td>\n",
       "      <td>16934750</td>\n",
       "      <td>5293880000</td>\n",
       "      <td>0.0</td>\n",
       "      <td>0.0</td>\n",
       "    </tr>\n",
       "    <tr>\n",
       "      <th>15189</th>\n",
       "      <td>23072217</td>\n",
       "      <td>3/23/2018 13:10</td>\n",
       "      <td>1442</td>\n",
       "      <td>8505.93</td>\n",
       "      <td>1.440000e+11</td>\n",
       "      <td>16934750</td>\n",
       "      <td>5266580000</td>\n",
       "      <td>0.0</td>\n",
       "      <td>0.0</td>\n",
       "    </tr>\n",
       "    <tr>\n",
       "      <th>15190</th>\n",
       "      <td>23073795</td>\n",
       "      <td>3/23/2018 13:15</td>\n",
       "      <td>1442</td>\n",
       "      <td>8499.42</td>\n",
       "      <td>1.440000e+11</td>\n",
       "      <td>16934750</td>\n",
       "      <td>5254860000</td>\n",
       "      <td>0.0</td>\n",
       "      <td>0.0</td>\n",
       "    </tr>\n",
       "  </tbody>\n",
       "</table>\n",
       "</div>"
      ],
      "text/plain": [
       "       Unnamed: 0             time  refID_coin    price     marketCap  \\\n",
       "15186    23067483  3/23/2018 12:50        1442  8503.81  1.440000e+11   \n",
       "15187    23069061  3/23/2018 12:55        1442  8512.09  1.440000e+11   \n",
       "15188    23070639  3/23/2018 13:05        1442  8516.86  1.440000e+11   \n",
       "15189    23072217  3/23/2018 13:10        1442  8505.93  1.440000e+11   \n",
       "15190    23073795  3/23/2018 13:15        1442  8499.42  1.440000e+11   \n",
       "\n",
       "       CirculatingSupply   Volume24h  Movement1h  Movement24h  \n",
       "15186           16934725  5312570000         0.0          0.0  \n",
       "15187           16934725  5304280000         0.0          0.0  \n",
       "15188           16934750  5293880000         0.0          0.0  \n",
       "15189           16934750  5266580000         0.0          0.0  \n",
       "15190           16934750  5254860000         0.0          0.0  "
      ]
     },
     "execution_count": 4,
     "metadata": {},
     "output_type": "execute_result"
    }
   ],
   "source": [
    "btc = pd.read_csv(\"datathon_csv/price_data1442.csv\")\n",
    "btc.drop(btc.index[-7:], inplace=True)\n",
    "btc.tail()"
   ]
  },
  {
   "cell_type": "code",
   "execution_count": 5,
   "metadata": {},
   "outputs": [],
   "source": [
    "btc = btc.drop([\"Unnamed: 0\", \"refID_coin\"], axis = 1)"
   ]
  },
  {
   "cell_type": "code",
   "execution_count": 6,
   "metadata": {},
   "outputs": [],
   "source": [
    "btc.time = pd.to_datetime(btc.time)\n",
    "btc = btc.set_index(btc.time).drop(\"time\", axis = 1)"
   ]
  },
  {
   "cell_type": "code",
   "execution_count": 7,
   "metadata": {},
   "outputs": [],
   "source": [
    "all_dates = pd.date_range(start = \"2018/01/17 11:25:00\", end = \"2018/03/23 13:20:00\", freq = \"5Min\")"
   ]
  },
  {
   "cell_type": "code",
   "execution_count": 8,
   "metadata": {},
   "outputs": [
    {
     "data": {
      "text/plain": [
       "DatetimeIndex(['2018-01-17 11:25:00', '2018-01-17 11:30:00',\n",
       "               '2018-01-17 11:35:00', '2018-01-17 11:40:00',\n",
       "               '2018-01-17 11:45:00', '2018-01-17 11:50:00',\n",
       "               '2018-01-17 11:55:00', '2018-01-17 12:00:00',\n",
       "               '2018-01-17 12:05:00', '2018-01-17 12:10:00',\n",
       "               ...\n",
       "               '2018-03-23 12:35:00', '2018-03-23 12:40:00',\n",
       "               '2018-03-23 12:45:00', '2018-03-23 12:50:00',\n",
       "               '2018-03-23 12:55:00', '2018-03-23 13:00:00',\n",
       "               '2018-03-23 13:05:00', '2018-03-23 13:10:00',\n",
       "               '2018-03-23 13:15:00', '2018-03-23 13:20:00'],\n",
       "              dtype='datetime64[ns]', length=18744, freq='5T')"
      ]
     },
     "execution_count": 8,
     "metadata": {},
     "output_type": "execute_result"
    }
   ],
   "source": [
    "all_dates"
   ]
  },
  {
   "cell_type": "code",
   "execution_count": 9,
   "metadata": {},
   "outputs": [],
   "source": [
    "#a = set(all_dates).difference(set(btc.index))"
   ]
  },
  {
   "cell_type": "code",
   "execution_count": 25,
   "metadata": {},
   "outputs": [
    {
     "data": {
      "text/html": [
       "<div>\n",
       "<style scoped>\n",
       "    .dataframe tbody tr th:only-of-type {\n",
       "        vertical-align: middle;\n",
       "    }\n",
       "\n",
       "    .dataframe tbody tr th {\n",
       "        vertical-align: top;\n",
       "    }\n",
       "\n",
       "    .dataframe thead th {\n",
       "        text-align: right;\n",
       "    }\n",
       "</style>\n",
       "<table border=\"1\" class=\"dataframe\">\n",
       "  <thead>\n",
       "    <tr style=\"text-align: right;\">\n",
       "      <th></th>\n",
       "      <th>price</th>\n",
       "      <th>marketCap</th>\n",
       "      <th>CirculatingSupply</th>\n",
       "      <th>Volume24h</th>\n",
       "      <th>Movement1h</th>\n",
       "      <th>Movement24h</th>\n",
       "    </tr>\n",
       "    <tr>\n",
       "      <th>time</th>\n",
       "      <th></th>\n",
       "      <th></th>\n",
       "      <th></th>\n",
       "      <th></th>\n",
       "      <th></th>\n",
       "      <th></th>\n",
       "    </tr>\n",
       "  </thead>\n",
       "  <tbody>\n",
       "    <tr>\n",
       "      <th>2018-01-17 11:25:00</th>\n",
       "      <td>10756.0</td>\n",
       "      <td>1.810000e+11</td>\n",
       "      <td>16807937</td>\n",
       "      <td>17884600000</td>\n",
       "      <td>-1.42</td>\n",
       "      <td>-11.40</td>\n",
       "    </tr>\n",
       "    <tr>\n",
       "      <th>2018-01-17 11:30:00</th>\n",
       "      <td>10788.1</td>\n",
       "      <td>1.810000e+11</td>\n",
       "      <td>16807937</td>\n",
       "      <td>17865300000</td>\n",
       "      <td>-1.08</td>\n",
       "      <td>-10.91</td>\n",
       "    </tr>\n",
       "    <tr>\n",
       "      <th>2018-01-17 11:35:00</th>\n",
       "      <td>10807.5</td>\n",
       "      <td>1.820000e+11</td>\n",
       "      <td>16807937</td>\n",
       "      <td>17891800000</td>\n",
       "      <td>-0.65</td>\n",
       "      <td>-10.75</td>\n",
       "    </tr>\n",
       "    <tr>\n",
       "      <th>2018-01-17 11:45:00</th>\n",
       "      <td>10776.1</td>\n",
       "      <td>1.810000e+11</td>\n",
       "      <td>16807987</td>\n",
       "      <td>17712000000</td>\n",
       "      <td>-1.13</td>\n",
       "      <td>-10.58</td>\n",
       "    </tr>\n",
       "    <tr>\n",
       "      <th>2018-01-17 11:50:00</th>\n",
       "      <td>10729.7</td>\n",
       "      <td>1.800000e+11</td>\n",
       "      <td>16807987</td>\n",
       "      <td>17645700000</td>\n",
       "      <td>-1.52</td>\n",
       "      <td>-10.74</td>\n",
       "    </tr>\n",
       "  </tbody>\n",
       "</table>\n",
       "</div>"
      ],
      "text/plain": [
       "                       price     marketCap  CirculatingSupply    Volume24h  \\\n",
       "time                                                                         \n",
       "2018-01-17 11:25:00  10756.0  1.810000e+11           16807937  17884600000   \n",
       "2018-01-17 11:30:00  10788.1  1.810000e+11           16807937  17865300000   \n",
       "2018-01-17 11:35:00  10807.5  1.820000e+11           16807937  17891800000   \n",
       "2018-01-17 11:45:00  10776.1  1.810000e+11           16807987  17712000000   \n",
       "2018-01-17 11:50:00  10729.7  1.800000e+11           16807987  17645700000   \n",
       "\n",
       "                     Movement1h  Movement24h  \n",
       "time                                          \n",
       "2018-01-17 11:25:00       -1.42       -11.40  \n",
       "2018-01-17 11:30:00       -1.08       -10.91  \n",
       "2018-01-17 11:35:00       -0.65       -10.75  \n",
       "2018-01-17 11:45:00       -1.13       -10.58  \n",
       "2018-01-17 11:50:00       -1.52       -10.74  "
      ]
     },
     "execution_count": 25,
     "metadata": {},
     "output_type": "execute_result"
    }
   ],
   "source": [
    "missing_df = pd.DataFrame(columns = btc.columns)\n",
    "missing_dates = np.setdiff1d(all_dates, btc.index)\n",
    "for missing_date in missing_dates:\n",
    "    last_known_values = btc[btc.index < missing_date].tail(1)\n",
    "    btc = btc.append(last_known_values)\n",
    "btc.head()\n",
    "    "
   ]
  },
  {
   "cell_type": "code",
   "execution_count": null,
   "metadata": {},
   "outputs": [],
   "source": [
    "btc"
   ]
  }
 ],
 "metadata": {
  "kernelspec": {
   "display_name": "Python 3",
   "language": "python",
   "name": "python3"
  },
  "language_info": {
   "codemirror_mode": {
    "name": "ipython",
    "version": 3
   },
   "file_extension": ".py",
   "mimetype": "text/x-python",
   "name": "python",
   "nbconvert_exporter": "python",
   "pygments_lexer": "ipython3",
   "version": "3.6.3"
  }
 },
 "nbformat": 4,
 "nbformat_minor": 2
}
