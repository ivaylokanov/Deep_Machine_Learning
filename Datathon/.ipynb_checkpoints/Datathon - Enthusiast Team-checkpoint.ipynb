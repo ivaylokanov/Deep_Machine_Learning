{
 "cells": [
  {
   "cell_type": "code",
   "execution_count": 1,
   "metadata": {},
   "outputs": [
    {
     "name": "stderr",
     "output_type": "stream",
     "text": [
      "C:\\Users\\Ivaylo\\Anaconda3\\lib\\site-packages\\statsmodels\\compat\\pandas.py:56: FutureWarning: The pandas.core.datetools module is deprecated and will be removed in a future version. Please use the pandas.tseries module instead.\n",
      "  from pandas.core import datetools\n"
     ]
    }
   ],
   "source": [
    "import numpy as np\n",
    "import pandas as pd\n",
    "import matplotlib.pyplot as plt\n",
    "\n",
    "from statsmodels.tsa.seasonal import seasonal_decompose\n",
    "from statsmodels.tsa.arima_model import ARIMA\n",
    "from statsmodels.graphics.tsaplots import plot_acf, plot_pacf\n",
    "\n",
    "import time"
   ]
  },
  {
   "cell_type": "markdown",
   "metadata": {},
   "source": [
    "# Enthusiast Team: Datathon Case\n",
    "## Predicting Cryptocurrency prices\n",
    "\n",
    "## Reading the Currencies for the First Problem"
   ]
  },
  {
   "cell_type": "code",
   "execution_count": 2,
   "metadata": {},
   "outputs": [
    {
     "data": {
      "text/html": [
       "<div>\n",
       "<style scoped>\n",
       "    .dataframe tbody tr th:only-of-type {\n",
       "        vertical-align: middle;\n",
       "    }\n",
       "\n",
       "    .dataframe tbody tr th {\n",
       "        vertical-align: top;\n",
       "    }\n",
       "\n",
       "    .dataframe thead th {\n",
       "        text-align: right;\n",
       "    }\n",
       "</style>\n",
       "<table border=\"1\" class=\"dataframe\">\n",
       "  <thead>\n",
       "    <tr style=\"text-align: right;\">\n",
       "      <th></th>\n",
       "      <th>Currency</th>\n",
       "      <th>ticker</th>\n",
       "      <th>CoinID</th>\n",
       "    </tr>\n",
       "  </thead>\n",
       "  <tbody>\n",
       "    <tr>\n",
       "      <th>0</th>\n",
       "      <td>Bitcoin</td>\n",
       "      <td>BTC</td>\n",
       "      <td>1442</td>\n",
       "    </tr>\n",
       "    <tr>\n",
       "      <th>1</th>\n",
       "      <td>Bitcoin Cash</td>\n",
       "      <td>BCH</td>\n",
       "      <td>1445</td>\n",
       "    </tr>\n",
       "    <tr>\n",
       "      <th>2</th>\n",
       "      <td>Bitcoin Gold</td>\n",
       "      <td>BTG</td>\n",
       "      <td>1456</td>\n",
       "    </tr>\n",
       "    <tr>\n",
       "      <th>3</th>\n",
       "      <td>Cardano</td>\n",
       "      <td>ADA</td>\n",
       "      <td>1446</td>\n",
       "    </tr>\n",
       "    <tr>\n",
       "      <th>4</th>\n",
       "      <td>Dash</td>\n",
       "      <td>DASH</td>\n",
       "      <td>1453</td>\n",
       "    </tr>\n",
       "    <tr>\n",
       "      <th>5</th>\n",
       "      <td>Dogecoin</td>\n",
       "      <td>DOGE</td>\n",
       "      <td>1477</td>\n",
       "    </tr>\n",
       "    <tr>\n",
       "      <th>6</th>\n",
       "      <td>Eos</td>\n",
       "      <td>EOS</td>\n",
       "      <td>1452</td>\n",
       "    </tr>\n",
       "    <tr>\n",
       "      <th>7</th>\n",
       "      <td>Ethereum</td>\n",
       "      <td>ETH</td>\n",
       "      <td>1443</td>\n",
       "    </tr>\n",
       "    <tr>\n",
       "      <th>8</th>\n",
       "      <td>Ethereum Classic</td>\n",
       "      <td>ETC</td>\n",
       "      <td>1457</td>\n",
       "    </tr>\n",
       "    <tr>\n",
       "      <th>9</th>\n",
       "      <td>Iota</td>\n",
       "      <td>MIOTA</td>\n",
       "      <td>1451</td>\n",
       "    </tr>\n",
       "    <tr>\n",
       "      <th>10</th>\n",
       "      <td>Lisk</td>\n",
       "      <td>LSK</td>\n",
       "      <td>1460</td>\n",
       "    </tr>\n",
       "    <tr>\n",
       "      <th>11</th>\n",
       "      <td>Litecoin</td>\n",
       "      <td>LTC</td>\n",
       "      <td>1448</td>\n",
       "    </tr>\n",
       "    <tr>\n",
       "      <th>12</th>\n",
       "      <td>Monero</td>\n",
       "      <td>XMR</td>\n",
       "      <td>1454</td>\n",
       "    </tr>\n",
       "    <tr>\n",
       "      <th>13</th>\n",
       "      <td>NEMcoin</td>\n",
       "      <td>XEM</td>\n",
       "      <td>1447</td>\n",
       "    </tr>\n",
       "    <tr>\n",
       "      <th>14</th>\n",
       "      <td>Neo</td>\n",
       "      <td>NEO</td>\n",
       "      <td>1449</td>\n",
       "    </tr>\n",
       "    <tr>\n",
       "      <th>15</th>\n",
       "      <td>Ripple</td>\n",
       "      <td>XRP</td>\n",
       "      <td>1444</td>\n",
       "    </tr>\n",
       "    <tr>\n",
       "      <th>16</th>\n",
       "      <td>Stellar</td>\n",
       "      <td>XLM</td>\n",
       "      <td>1450</td>\n",
       "    </tr>\n",
       "    <tr>\n",
       "      <th>17</th>\n",
       "      <td>Tether</td>\n",
       "      <td>USDT</td>\n",
       "      <td>1474</td>\n",
       "    </tr>\n",
       "    <tr>\n",
       "      <th>18</th>\n",
       "      <td>Tron</td>\n",
       "      <td>TRX</td>\n",
       "      <td>1455</td>\n",
       "    </tr>\n",
       "    <tr>\n",
       "      <th>19</th>\n",
       "      <td>Zcash</td>\n",
       "      <td>ZEC</td>\n",
       "      <td>1465</td>\n",
       "    </tr>\n",
       "  </tbody>\n",
       "</table>\n",
       "</div>"
      ],
      "text/plain": [
       "            Currency ticker  CoinID\n",
       "0            Bitcoin    BTC    1442\n",
       "1       Bitcoin Cash    BCH    1445\n",
       "2       Bitcoin Gold    BTG    1456\n",
       "3            Cardano    ADA    1446\n",
       "4               Dash   DASH    1453\n",
       "5           Dogecoin   DOGE    1477\n",
       "6                Eos    EOS    1452\n",
       "7           Ethereum    ETH    1443\n",
       "8   Ethereum Classic    ETC    1457\n",
       "9               Iota  MIOTA    1451\n",
       "10              Lisk    LSK    1460\n",
       "11          Litecoin    LTC    1448\n",
       "12            Monero    XMR    1454\n",
       "13           NEMcoin    XEM    1447\n",
       "14               Neo    NEO    1449\n",
       "15            Ripple    XRP    1444\n",
       "16           Stellar    XLM    1450\n",
       "17            Tether   USDT    1474\n",
       "18              Tron    TRX    1455\n",
       "19             Zcash    ZEC    1465"
      ]
     },
     "execution_count": 2,
     "metadata": {},
     "output_type": "execute_result"
    }
   ],
   "source": [
    "currency_info = pd.read_csv(\"currencies.txt\", sep = \"\\t\")\n",
    "currency_info"
   ]
  },
  {
   "cell_type": "markdown",
   "metadata": {},
   "source": [
    "We need to read the data file for every coin. For easier work, we're going to save them in a dictionary (keys - coin IDs, values - cleaned datasets)."
   ]
  },
  {
   "cell_type": "markdown",
   "metadata": {},
   "source": [
    "## Data Cleaning\n",
    "The data is relatively clean but we still need to do some things. For one, we need to parse the dates (so we can use then properly with `numpy`, `pandas` and other libraries) and set the index of the dataframe to be the dates. We also need to remove the `Unnamed: 0` and `refID_coin` as they don't mean anything (they're just indices)."
   ]
  },
  {
   "cell_type": "code",
   "execution_count": 3,
   "metadata": {},
   "outputs": [],
   "source": [
    "coin_infos = {}\n",
    "for coin_id in currency_info.CoinID:\n",
    "    coin_file = \"datathon_csv/price_data{0}.csv\".format(coin_id)\n",
    "    coin_info = pd.read_csv(coin_file)\n",
    "    coin_info.time = pd.to_datetime(coin_info.time)\n",
    "    coin_info = coin_info.set_index(coin_info.time)\n",
    "    coin_info = coin_info.drop([\"Unnamed: 0\", \"refID_coin\", \"time\"], axis = 1)\n",
    "    coin_infos[coin_id] = coin_info"
   ]
  },
  {
   "cell_type": "markdown",
   "metadata": {},
   "source": [
    "There are many missing dates in the data. Our hypothesis is that our models will need to get data in regular intervals to make their work easier.\n",
    "\n",
    "To do this, we'll try to get all possible intervals from the beginning to the end."
   ]
  },
  {
   "cell_type": "code",
   "execution_count": 4,
   "metadata": {},
   "outputs": [],
   "source": [
    "all_dates = pd.date_range(start = \"2018/01/17 11:25:00\", end = \"2018/03/23 13:15:00\", freq = \"5Min\")"
   ]
  },
  {
   "cell_type": "markdown",
   "metadata": {},
   "source": [
    "For every coin, we'll see which timestamps are missing and we'll fill them in with the last known value.\n",
    "\n",
    "Actually, we'll need a bit better handling of movements (1h and 24h) - possibly computing them instead of replacing them with random values. However, we're going to leave this topic for a future time."
   ]
  },
  {
   "cell_type": "code",
   "execution_count": 5,
   "metadata": {},
   "outputs": [],
   "source": [
    "for coin_id, coin_data in coin_infos.items():\n",
    "    missing_dates = np.setdiff1d(all_dates, coin_data.index)\n",
    "    new_df = pd.DataFrame(index = missing_dates, columns = coin_data.columns)\n",
    "    new_df = pd.concat([coin_data, new_df]).sort_index().ffill()\n",
    "    new_df = new_df[~new_df.index.duplicated(keep = \"first\")]\n",
    "    coin_infos[coin_id] = new_df"
   ]
  },
  {
   "cell_type": "markdown",
   "metadata": {},
   "source": [
    "Now we've got a full dataset for all coins. We can save them for later work."
   ]
  },
  {
   "cell_type": "code",
   "execution_count": 6,
   "metadata": {},
   "outputs": [
    {
     "name": "stdout",
     "output_type": "stream",
     "text": [
      "1442 18750\n"
     ]
    },
    {
     "ename": "FileNotFoundError",
     "evalue": "[Errno 2] No such file or directory: 'clean_data_csv/1442.csv'",
     "output_type": "error",
     "traceback": [
      "\u001b[1;31m---------------------------------------------------------------------------\u001b[0m",
      "\u001b[1;31mFileNotFoundError\u001b[0m                         Traceback (most recent call last)",
      "\u001b[1;32m<ipython-input-6-979617cb1ab2>\u001b[0m in \u001b[0;36m<module>\u001b[1;34m()\u001b[0m\n\u001b[0;32m      1\u001b[0m \u001b[1;32mfor\u001b[0m \u001b[0mcoin_id\u001b[0m\u001b[1;33m,\u001b[0m \u001b[0mcoin_data\u001b[0m \u001b[1;32min\u001b[0m \u001b[0mcoin_infos\u001b[0m\u001b[1;33m.\u001b[0m\u001b[0mitems\u001b[0m\u001b[1;33m(\u001b[0m\u001b[1;33m)\u001b[0m\u001b[1;33m:\u001b[0m\u001b[1;33m\u001b[0m\u001b[0m\n\u001b[0;32m      2\u001b[0m     \u001b[0mprint\u001b[0m\u001b[1;33m(\u001b[0m\u001b[0mcoin_id\u001b[0m\u001b[1;33m,\u001b[0m \u001b[0mlen\u001b[0m\u001b[1;33m(\u001b[0m\u001b[0mcoin_data\u001b[0m\u001b[1;33m)\u001b[0m\u001b[1;33m)\u001b[0m\u001b[1;33m\u001b[0m\u001b[0m\n\u001b[1;32m----> 3\u001b[1;33m     \u001b[0mcoin_data\u001b[0m\u001b[1;33m.\u001b[0m\u001b[0mto_csv\u001b[0m\u001b[1;33m(\u001b[0m\u001b[1;34m\"clean_data_csv/{0}.csv\"\u001b[0m\u001b[1;33m.\u001b[0m\u001b[0mformat\u001b[0m\u001b[1;33m(\u001b[0m\u001b[0mcoin_id\u001b[0m\u001b[1;33m)\u001b[0m\u001b[1;33m)\u001b[0m\u001b[1;33m\u001b[0m\u001b[0m\n\u001b[0m",
      "\u001b[1;32m~\\Anaconda3\\lib\\site-packages\\pandas\\core\\frame.py\u001b[0m in \u001b[0;36mto_csv\u001b[1;34m(self, path_or_buf, sep, na_rep, float_format, columns, header, index, index_label, mode, encoding, compression, quoting, quotechar, line_terminator, chunksize, tupleize_cols, date_format, doublequote, escapechar, decimal)\u001b[0m\n\u001b[0;32m   1522\u001b[0m                                      \u001b[0mdoublequote\u001b[0m\u001b[1;33m=\u001b[0m\u001b[0mdoublequote\u001b[0m\u001b[1;33m,\u001b[0m\u001b[1;33m\u001b[0m\u001b[0m\n\u001b[0;32m   1523\u001b[0m                                      escapechar=escapechar, decimal=decimal)\n\u001b[1;32m-> 1524\u001b[1;33m         \u001b[0mformatter\u001b[0m\u001b[1;33m.\u001b[0m\u001b[0msave\u001b[0m\u001b[1;33m(\u001b[0m\u001b[1;33m)\u001b[0m\u001b[1;33m\u001b[0m\u001b[0m\n\u001b[0m\u001b[0;32m   1525\u001b[0m \u001b[1;33m\u001b[0m\u001b[0m\n\u001b[0;32m   1526\u001b[0m         \u001b[1;32mif\u001b[0m \u001b[0mpath_or_buf\u001b[0m \u001b[1;32mis\u001b[0m \u001b[1;32mNone\u001b[0m\u001b[1;33m:\u001b[0m\u001b[1;33m\u001b[0m\u001b[0m\n",
      "\u001b[1;32m~\\Anaconda3\\lib\\site-packages\\pandas\\io\\formats\\format.py\u001b[0m in \u001b[0;36msave\u001b[1;34m(self)\u001b[0m\n\u001b[0;32m   1627\u001b[0m             f, handles = _get_handle(self.path_or_buf, self.mode,\n\u001b[0;32m   1628\u001b[0m                                      \u001b[0mencoding\u001b[0m\u001b[1;33m=\u001b[0m\u001b[0mencoding\u001b[0m\u001b[1;33m,\u001b[0m\u001b[1;33m\u001b[0m\u001b[0m\n\u001b[1;32m-> 1629\u001b[1;33m                                      compression=self.compression)\n\u001b[0m\u001b[0;32m   1630\u001b[0m             \u001b[0mclose\u001b[0m \u001b[1;33m=\u001b[0m \u001b[1;32mTrue\u001b[0m\u001b[1;33m\u001b[0m\u001b[0m\n\u001b[0;32m   1631\u001b[0m \u001b[1;33m\u001b[0m\u001b[0m\n",
      "\u001b[1;32m~\\Anaconda3\\lib\\site-packages\\pandas\\io\\common.py\u001b[0m in \u001b[0;36m_get_handle\u001b[1;34m(path_or_buf, mode, encoding, compression, memory_map, is_text)\u001b[0m\n\u001b[0;32m    388\u001b[0m         \u001b[1;32melif\u001b[0m \u001b[0mencoding\u001b[0m\u001b[1;33m:\u001b[0m\u001b[1;33m\u001b[0m\u001b[0m\n\u001b[0;32m    389\u001b[0m             \u001b[1;31m# Python 3 and encoding\u001b[0m\u001b[1;33m\u001b[0m\u001b[1;33m\u001b[0m\u001b[0m\n\u001b[1;32m--> 390\u001b[1;33m             \u001b[0mf\u001b[0m \u001b[1;33m=\u001b[0m \u001b[0mopen\u001b[0m\u001b[1;33m(\u001b[0m\u001b[0mpath_or_buf\u001b[0m\u001b[1;33m,\u001b[0m \u001b[0mmode\u001b[0m\u001b[1;33m,\u001b[0m \u001b[0mencoding\u001b[0m\u001b[1;33m=\u001b[0m\u001b[0mencoding\u001b[0m\u001b[1;33m)\u001b[0m\u001b[1;33m\u001b[0m\u001b[0m\n\u001b[0m\u001b[0;32m    391\u001b[0m         \u001b[1;32melif\u001b[0m \u001b[0mis_text\u001b[0m\u001b[1;33m:\u001b[0m\u001b[1;33m\u001b[0m\u001b[0m\n\u001b[0;32m    392\u001b[0m             \u001b[1;31m# Python 3 and no explicit encoding\u001b[0m\u001b[1;33m\u001b[0m\u001b[1;33m\u001b[0m\u001b[0m\n",
      "\u001b[1;31mFileNotFoundError\u001b[0m: [Errno 2] No such file or directory: 'clean_data_csv/1442.csv'"
     ]
    }
   ],
   "source": [
    "for coin_id, coin_data in coin_infos.items():\n",
    "    print(coin_id, len(coin_data))\n",
    "    coin_data.to_csv(\"clean_data_csv/{0}.csv\".format(coin_id))"
   ]
  },
  {
   "cell_type": "markdown",
   "metadata": {},
   "source": [
    "## Metrics"
   ]
  },
  {
   "cell_type": "code",
   "execution_count": null,
   "metadata": {},
   "outputs": [],
   "source": [
    "def MAPE(predicted, actual):\n",
    "    \"\"\"\n",
    "    Mean absolute error, in percentage\n",
    "    \"\"\"\n",
    "    assert len(predicted) == len(actual)\n",
    "    return np.mean((predicted - actual) / actual) * 100\n",
    "\n",
    "def DS(predicted, actual):\n",
    "    return np.mean(np.diff(predicted) * np.diff(actual) > 0) * 100"
   ]
  },
  {
   "cell_type": "markdown",
   "metadata": {},
   "source": [
    "## Historical simulation"
   ]
  },
  {
   "cell_type": "markdown",
   "metadata": {},
   "source": [
    "Seasonal decomposition seems to give pretty good results. Since ARIMA models on the residuals give algebraic errors, it's safest to ignore them as a first assumption."
   ]
  },
  {
   "cell_type": "code",
   "execution_count": null,
   "metadata": {},
   "outputs": [],
   "source": [
    "predicted = np.random.random(size = 1000)\n",
    "actual = np.random.random(size = 1000)\n"
   ]
  },
  {
   "cell_type": "code",
   "execution_count": null,
   "metadata": {},
   "outputs": [],
   "source": [
    "# Directional symmetry\n",
    "DS(predicted, actual)"
   ]
  },
  {
   "cell_type": "code",
   "execution_count": null,
   "metadata": {},
   "outputs": [],
   "source": [
    "plt.figure(figsize = (10, 8))\n",
    "for coin_id, coin_data in coin_infos.items():\n",
    "    plt.plot(coin_infos[coin_id].index, coin_infos[coin_id].price, label = currency_info[currency_info.CoinID == coin_id].Currency.values[0])\n",
    "    plt.legend(loc = \"right\")\n",
    "plt.title(\"All 20 cryptocurrencies\")\n",
    "plt.show()"
   ]
  },
  {
   "cell_type": "code",
   "execution_count": null,
   "metadata": {},
   "outputs": [],
   "source": [
    "plt.figure(figsize = (10, 8))\n",
    "for coin_id, coin_data in coin_infos.items():\n",
    "    # Exclude Bitcoin and Bitcoin Cash\n",
    "    if coin_id == 1442 or coin_id == 1445:\n",
    "        continue\n",
    "        \n",
    "    plt.plot(coin_infos[coin_id].index, coin_infos[coin_id].price, label = currency_info[currency_info.CoinID == coin_id].Currency.values[0])\n",
    "    plt.legend(loc = \"right\")\n",
    "plt.title(\"Cryptocurrencies, without BTC and BCH\")\n",
    "plt.show()"
   ]
  },
  {
   "cell_type": "code",
   "execution_count": null,
   "metadata": {},
   "outputs": [],
   "source": [
    "for coin_id, coin_data in coin_infos.items():\n",
    "    plt.plot(coin_infos[coin_id].index.values, coin_infos[coin_id].price)\n",
    "    #plt.legend(loc = \"right\")\n",
    "    plt.title(currency_info[currency_info.CoinID == coin_id].Currency.values[0])\n",
    "    plt.show()"
   ]
  },
  {
   "cell_type": "markdown",
   "metadata": {},
   "source": [
    "## Performing Simulations and Preparing Output"
   ]
  },
  {
   "cell_type": "code",
   "execution_count": null,
   "metadata": {},
   "outputs": [],
   "source": [
    "start_date = pd.to_datetime(\"2018-01-25 00:00:00\")"
   ]
  },
  {
   "cell_type": "code",
   "execution_count": null,
   "metadata": {},
   "outputs": [],
   "source": [
    "num_simulations = len(coin_infos[1442][start_date:])\n",
    "for coin_id, coin_data in coin_infos.items():\n",
    "    week_ago = pd.to_datetime(start_date) + pd.Timedelta(weeks = -1)\n",
    "    now = pd.to_datetime(start_date) + pd.Timedelta(minutes = -5)\n",
    "    predicted_prices, times = [], []    \n",
    "    for P in range(num_simulations):\n",
    "        time_delta = 12 # 1 hour\n",
    "        data_week = coin_data[(coin_data.index >= week_ago) & (coin_data.index < now)]\n",
    "        initial_time = time.time()\n",
    "        decomposition = seasonal_decompose(data_week.price, model = \"multiplicative\", freq = time_delta, two_sided = False)\n",
    "        trend, seasonal, residual = decomposition.trend, decomposition.seasonal, decomposition.resid\n",
    "        final_time = time.time()\n",
    "        predicted_price = trend[-time_delta:].mean() * seasonal[-time_delta]\n",
    "        predicted_prices.append(predicted_price)\n",
    "        times.append(final_time - initial_time)\n",
    "        \n",
    "        week_ago = week_ago + pd.Timedelta(minutes = 5)\n",
    "        now = now + pd.Timedelta(minutes = 5)        \n",
    "    pd.DataFrame(\n",
    "        data = {\n",
    "            \"prices\": predicted_prices, \n",
    "            \"time\": times\n",
    "        }, index = coin_infos[coin_id][start_date:].index).to_csv(\"results/{0}.csv\".format(coin_id))"
   ]
  },
  {
   "cell_type": "markdown",
   "metadata": {},
   "source": [
    "A quick inspection shows us that although there's much to be desired, we're not too far away from what the expected results are."
   ]
  },
  {
   "cell_type": "code",
   "execution_count": null,
   "metadata": {},
   "outputs": [],
   "source": [
    "for coin_id, coin_data in coin_infos.items():\n",
    "    predictions = pd.read_csv(\"results/{0}.csv\".format(coin_id))\n",
    "    predictions[\"Unnamed: 0\"] = pd.to_datetime(predictions[\"Unnamed: 0\"])\n",
    "    predictions.set_index(\"Unnamed: 0\")\n",
    "    plt.plot(range(len(predictions.prices)), predictions.prices)\n",
    "    plt.plot(range(len(predictions.prices)), coin_data[coin_data.index >= start_date].price, alpha = 0.8)\n",
    "    plt.xlabel(\"Period (relative to 25/01/2018)\")\n",
    "    plt.ylabel(\"Price\")\n",
    "    currency_name = currency_info[currency_info.CoinID == coin_id].Currency.values[0]\n",
    "    plt.title(currency_name)\n",
    "    plt.show()"
   ]
  },
  {
   "cell_type": "code",
   "execution_count": null,
   "metadata": {},
   "outputs": [],
   "source": [
    "# Scoring\n",
    "\n",
    "start_dates = [\n",
    "    \"2018-02-02 10:00:00\",\n",
    "    \"2018-02-10 10:00:00\",\n",
    "    \"2018-02-12 10:00:00\",\n",
    "    \"2018-02-23 11:00:00\",\n",
    "    \"2018-02-15 12:35:00\"\n",
    "]\n",
    "for coin_id, coin_data in coin_infos.items():\n",
    "    for i, start_date in enumerate(start_dates):\n",
    "        now = pd.to_datetime(start_date)\n",
    "        predictions = pd.read_csv(\"results/{0}.csv\".format(coin_id))\n",
    "        predictions[\"Unnamed: 0\"] = pd.to_datetime(predictions[\"Unnamed: 0\"])\n",
    "        predictions = predictions.set_index(\"Unnamed: 0\")\n",
    "        predictions = predictions[(predictions.index >= now) & (predictions.index < (now + pd.Timedelta(days = 1)))]\n",
    "        predictions.to_csv(\"datathon_output/{0}_{1}.csv\".format(coin_id, (i + 1)), index = False, columns = [\"prices\"], header = None)"
   ]
  },
  {
   "cell_type": "code",
   "execution_count": null,
   "metadata": {},
   "outputs": [],
   "source": []
  }
 ],
 "metadata": {
  "kernelspec": {
   "display_name": "Python 3",
   "language": "python",
   "name": "python3"
  },
  "language_info": {
   "codemirror_mode": {
    "name": "ipython",
    "version": 3
   },
   "file_extension": ".py",
   "mimetype": "text/x-python",
   "name": "python",
   "nbconvert_exporter": "python",
   "pygments_lexer": "ipython3",
   "version": "3.6.3"
  }
 },
 "nbformat": 4,
 "nbformat_minor": 2
}
